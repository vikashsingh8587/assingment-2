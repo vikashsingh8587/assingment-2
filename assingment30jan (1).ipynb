{
 "cells": [
  {
   "cell_type": "code",
   "execution_count": 1,
   "id": "ac043a54-7e1c-44e8-a586-996dcef98524",
   "metadata": {},
   "outputs": [],
   "source": [
    "#1. Write a program to accept percentage from the user and display the grade \n",
    "#   according to the following "
   ]
  },
  {
   "cell_type": "code",
   "execution_count": 1,
   "id": "d83c7026-3e6d-4e7f-8aa1-6d739fc04fe0",
   "metadata": {},
   "outputs": [
    {
     "name": "stdin",
     "output_type": "stream",
     "text": [
      "ENTER THE MARKS  :   5\n"
     ]
    },
    {
     "name": "stdout",
     "output_type": "stream",
     "text": [
      "Grade : D\n"
     ]
    }
   ],
   "source": [
    "marks = int(input(\"ENTER THE MARKS  :  \"))\n",
    "if marks>90:\n",
    "    print(\"Grade  : A\")\n",
    "elif marks >80 and marks <=90:\n",
    "    print (\"Grade : B\")\n",
    "elif marks >=60 and marks <=80:\n",
    "    print(\"Grade : C\")\n",
    "else :\n",
    "    print(\"Grade : D\")\n",
    "    \n"
   ]
  },
  {
   "cell_type": "code",
   "execution_count": null,
   "id": "db2eab2f-22bb-46c1-a29d-d25f71c71b48",
   "metadata": {},
   "outputs": [],
   "source": [
    "#2. Write a program to accept the cost price of a bike and display the road tax \n",
    "#   to be paid according to the "
   ]
  },
  {
   "cell_type": "code",
   "execution_count": null,
   "id": "f91ab627-de0c-41d2-aebf-be61cd8ce298",
   "metadata": {},
   "outputs": [],
   "source": [
    "cost_price = float (input(\"ENTER THE COST PRICE OF BIKE  : \"))\n",
    "if cost_price >100000:\n",
    "    print(\"you paid  15% road tax\")\n",
    "elif cost_price >50000 and cost_price <= 100000:\n",
    "    print(\"you paid  10% road tax \")\n",
    "else :\n",
    "    print(\"you paid 5% road tax\")"
   ]
  },
  {
   "cell_type": "code",
   "execution_count": 5,
   "id": "8b36f9ee-639d-4862-b2e8-5bfccfee8b2f",
   "metadata": {},
   "outputs": [],
   "source": [
    "# 3. Accept any city from the user and display monuments of that city"
   ]
  },
  {
   "cell_type": "code",
   "execution_count": null,
   "id": "7ed1c475-404d-4f05-a149-57f1c5958d12",
   "metadata": {},
   "outputs": [],
   "source": [
    "city = input (\"enter the name of city\")\n",
    "if city ==\"delhi\":\n",
    "    print(\"Monuments of that city is  :  Red Fort \")\n",
    "elif city == \"agra \":\n",
    "    print(\"Monument of that city is  : Taj Mahal \")\n",
    "elif city == \"jaipur\":\n",
    "    print(\"Monument of that city is : Jal Mahal \")\n",
    "else :\n",
    "    print (\"there is no data present about that city \")\n",
    "                                                                                                                                                                                                                                                                                                                                                                                                                                                                                                                                                                                                                                                                                                                                                                                                                                                                                                                                                                                                                                                                                                                                                                                                                                                                                                                                                                                                                                                                                                                                                                                                                                                                                                                                                                                                                                                                                                                                                                                                                                                                                                                                                                                                                                                                                                                                                                                                                                                                                                                                                                                                                                                                                                                                                                                                                                                                                                                                                                                                                                                                                                                                                                                                                                                                                                                                                                                                                                                                                                                                                                                                                                                                                                                                                                                                                                                                                                                                                                                                                                                                                                                                                                                                                                                                                                                                                                                                                                                                                                                                                                                                                                                                                                                                                                                                                                                                                                                                                                                                                                                                                                                                                                                                                                                                                                                                                                                                                                                                                                                                                                                                                                                                                                                                                                                                                                                                                                                                                                                                                                                                                                                                                                                                                                                                                                                                                                                                                                                                                                                                                                                                                                                                                                                                          "
   ]
  },
  {
   "cell_type": "code",
   "execution_count": null,
   "id": "bb60d971-3e83-4bea-8603-0e7a5de2ea17",
   "metadata": {},
   "outputs": [],
   "source": [
    "#4.  check how many times a given number can be divided by 3 before it is \n",
    "#    less than or equal to 10\n"
   ]
  },
  {
   "cell_type": "code",
   "execution_count": null,
   "id": "e7089102-4ff1-487a-aa6b-871b92f8a6e3",
   "metadata": {},
   "outputs": [],
   "source": [
    "number = int (input(\"enter the number \"))\n",
    "counts =0\n",
    "while number>10:\n",
    "    counts = counts +1\n",
    "    number = number/3\n",
    "print(\" number of times of a number is  divided by 3 is : \",counts)    "
   ]
  },
  {
   "cell_type": "code",
   "execution_count": 9,
   "id": "c49a3c2b-5d5a-4697-b56f-338ce2b7a737",
   "metadata": {},
   "outputs": [],
   "source": [
    "#5.  why and when to use while loop in phython give a detailed description \n",
    "#    with example"
   ]
  },
  {
   "cell_type": "code",
   "execution_count": null,
   "id": "8ca9ce56-b1b5-413f-a00d-da55918250fb",
   "metadata": {},
   "outputs": [],
   "source": [
    "\"\"\"1. with the while loop we can execute a set of statement as long as a condition is true\n",
    "   \n",
    "\"\"\"\n",
    "# example 1 \n",
    "i=1\n",
    "while i <10:\n",
    "    print(i)\n",
    "    i=i+1\n",
    "# firstly  i=1 than  condition is true than program can be execute respectivily \n",
    "# as long as volue of i is equal to 9.when the  value of i is equal to 10.\n",
    "# than condition of while loop  foult than program execution stop .\n",
    "\n",
    "\n",
    "\n",
    "\n",
    "#example 2.\n",
    "i=50\n",
    "while i>10:\n",
    "    print(i)\n",
    "    i= i/2\n",
    " \n",
    "    "
   ]
  },
  {
   "cell_type": "code",
   "execution_count": 11,
   "id": "8217d9f4-bf1d-4666-b864-f8d71fcded8f",
   "metadata": {},
   "outputs": [],
   "source": [
    "#6. use  nested while loop  to print 3 different pattern "
   ]
  },
  {
   "cell_type": "code",
   "execution_count": null,
   "id": "c2d53377-2fa8-4377-bd02-a261ed2edbb1",
   "metadata": {},
   "outputs": [],
   "source": [
    "a= int (input(\"enter the number of raw\"))\n",
    "i=1;\n",
    "\n",
    "while i<=a:\n",
    "    j=1\n",
    "    while j<=i:\n",
    "       \n",
    "        print(\"*\",end = \" \")\n",
    "        j=j+1\n",
    "    print(\"\\n\")\n",
    "    i=i+1   \n",
    "    \n",
    "    "
   ]
  },
  {
   "cell_type": "code",
   "execution_count": 4,
   "id": "1c697e09-5043-4e16-87ac-0e43c918251b",
   "metadata": {},
   "outputs": [
    {
     "name": "stdin",
     "output_type": "stream",
     "text": [
      "enter the number of raw 5\n"
     ]
    },
    {
     "name": "stdout",
     "output_type": "stream",
     "text": [
      "* * * * * \n",
      "\n",
      "* * * * \n",
      "\n",
      "* * * \n",
      "\n",
      "* * \n",
      "\n",
      "* \n",
      "\n"
     ]
    }
   ],
   "source": [
    "#pattern printing second\n",
    "\n",
    "a= int (input(\"enter the number of raw\"))\n",
    "i=1;\n",
    "\n",
    "while i<=a:\n",
    "    j=a-i\n",
    "    while j>=0:\n",
    "       \n",
    "        print(\"*\",end = \" \",)\n",
    "        j=j-1\n",
    "    print(\"\\n\")\n",
    "    i=i+1  "
   ]
  },
  {
   "cell_type": "code",
   "execution_count": 3,
   "id": "2d4d5255-53c3-4684-8994-095972571ec4",
   "metadata": {},
   "outputs": [
    {
     "name": "stdin",
     "output_type": "stream",
     "text": [
      "enter the number of row 5\n"
     ]
    },
    {
     "name": "stdout",
     "output_type": "stream",
     "text": [
      "        * \n",
      "      * * \n",
      "    * * * \n",
      "  * * * * \n",
      "* * * * * \n"
     ]
    }
   ],
   "source": [
    "#pattern printing third\n",
    "\n",
    "num = int(input(\"enter the number of row\"))\n",
    "i= 1\n",
    "while i<=num:\n",
    "    k=(num)-i\n",
    "    while k>0:\n",
    "        print(\" \",end=\" \")\n",
    "        k=k-1\n",
    "    j=1\n",
    "    while j<=i:\n",
    "        print(\"*\",end = \" \")\n",
    "        j=j+1\n",
    "    print()\n",
    "    i=i+1 "
   ]
  },
  {
   "cell_type": "code",
   "execution_count": null,
   "id": "0462cdbf-e0e3-4c8f-8e4b-08dd8a514781",
   "metadata": {},
   "outputs": [],
   "source": [
    "# 7. reverse a while loop  to display numbers from 10 to 1"
   ]
  },
  {
   "cell_type": "code",
   "execution_count": null,
   "id": "f9d7ece8-8675-4d6a-b7e1-56cb80802781",
   "metadata": {},
   "outputs": [],
   "source": [
    "num = 10\n",
    "while num>0:\n",
    "    print(num)\n",
    "    num=num-1\n",
    "\n"
   ]
  },
  {
   "cell_type": "code",
   "execution_count": null,
   "id": "61c6f0d9-8027-4221-8143-cdbfe98c2cd7",
   "metadata": {},
   "outputs": [],
   "source": [
    "# 8. reverse a while loop to dispaly numbers from 10 to 1"
   ]
  },
  {
   "cell_type": "code",
   "execution_count": 2,
   "id": "dc505db8-dd02-46b7-beab-92421669f937",
   "metadata": {},
   "outputs": [
    {
     "name": "stdout",
     "output_type": "stream",
     "text": [
      "10\n",
      "9\n",
      "8\n",
      "7\n",
      "6\n",
      "5\n",
      "4\n",
      "3\n",
      "2\n",
      "1\n"
     ]
    }
   ],
   "source": [
    "num = 10\n",
    "while num>0:\n",
    "    print(num)\n",
    "    num=num-1"
   ]
  },
  {
   "cell_type": "code",
   "execution_count": null,
   "id": "14c0abab-0020-432d-a889-e58bca326300",
   "metadata": {},
   "outputs": [],
   "source": [
    "#8. reverse a for loop to display number from 10 to 1"
   ]
  },
  {
   "cell_type": "code",
   "execution_count": null,
   "id": "db9256c6-702f-4938-836d-f758de2d7023",
   "metadata": {},
   "outputs": [],
   "source": [
    "for i in range(10,0,-1):\n",
    "    print(i)\n"
   ]
  }
 ],
 "metadata": {
  "kernelspec": {
   "display_name": "Python 3 (ipykernel)",
   "language": "python",
   "name": "python3"
  },
  "language_info": {
   "codemirror_mode": {
    "name": "ipython",
    "version": 3
   },
   "file_extension": ".py",
   "mimetype": "text/x-python",
   "name": "python",
   "nbconvert_exporter": "python",
   "pygments_lexer": "ipython3",
   "version": "3.10.8"
  }
 },
 "nbformat": 4,
 "nbformat_minor": 5
}
